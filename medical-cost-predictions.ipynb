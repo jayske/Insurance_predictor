{
 "cells": [
  {
   "cell_type": "markdown",
   "id": "ad8dbfa5",
   "metadata": {
    "papermill": {
     "duration": 0.016553,
     "end_time": "2022-10-24T00:30:15.791480",
     "exception": false,
     "start_time": "2022-10-24T00:30:15.774927",
     "status": "completed"
    },
    "tags": []
   },
   "source": [
    "# **Medical Cost Prediction**\n"
   ]
  },
  {
   "cell_type": "markdown",
   "id": "7abda8c3",
   "metadata": {
    "papermill": {
     "duration": 0.014476,
     "end_time": "2022-10-24T00:30:15.823287",
     "exception": false,
     "start_time": "2022-10-24T00:30:15.808811",
     "status": "completed"
    },
    "tags": []
   },
   "source": [
    "Project that uses different ML to evaluate the insurance cost using regressions. The projects covers:\n"
   ]
  },
  {
   "cell_type": "code",
   "execution_count": 4,
   "id": "59caeedd",
   "metadata": {
    "_cell_guid": "b1076dfc-b9ad-4769-8c92-a6c4dae69d19",
    "_uuid": "8f2839f25d086af736a60e9eeb907d3b93b6e0e5",
    "execution": {
     "iopub.execute_input": "2022-10-24T00:30:15.853923Z",
     "iopub.status.busy": "2022-10-24T00:30:15.853347Z",
     "iopub.status.idle": "2022-10-24T00:30:15.863767Z",
     "shell.execute_reply": "2022-10-24T00:30:15.862838Z"
    },
    "papermill": {
     "duration": 0.027503,
     "end_time": "2022-10-24T00:30:15.866726",
     "exception": false,
     "start_time": "2022-10-24T00:30:15.839223",
     "status": "completed"
    },
    "tags": []
   },
   "outputs": [
    {
     "ename": "ModuleNotFoundError",
     "evalue": "No module named 'numpy'",
     "output_type": "error",
     "traceback": [
      "\u001b[1;31m---------------------------------------------------------------------------\u001b[0m",
      "\u001b[1;31mModuleNotFoundError\u001b[0m                       Traceback (most recent call last)",
      "Cell \u001b[1;32mIn [4], line 1\u001b[0m\n\u001b[1;32m----> 1\u001b[0m \u001b[39mimport\u001b[39;00m \u001b[39mnumpy\u001b[39;00m \u001b[39mas\u001b[39;00m \u001b[39mnp\u001b[39;00m \u001b[39m# linear algebra\u001b[39;00m\n\u001b[0;32m      2\u001b[0m \u001b[39mimport\u001b[39;00m \u001b[39mpandas\u001b[39;00m \u001b[39mas\u001b[39;00m \u001b[39mpd\u001b[39;00m\n",
      "\u001b[1;31mModuleNotFoundError\u001b[0m: No module named 'numpy'"
     ]
    }
   ],
   "source": [
    "import numpy as np # linear algebra\n",
    "import pandas as pd # data processing, \n",
    "\n",
    "# Input data files are available in the read-only \"../input/\" directory\n",
    "# For example, running this (by clicking run or pressing Shift+Enter) will list all files under the input directory"
   ]
  },
  {
   "cell_type": "markdown",
   "id": "031f56e9",
   "metadata": {
    "papermill": {
     "duration": 0.011893,
     "end_time": "2022-10-24T00:30:15.891246",
     "exception": false,
     "start_time": "2022-10-24T00:30:15.879353",
     "status": "completed"
    },
    "tags": []
   },
   "source": [
    "# Loading dataset\n",
    "\n",
    "These are the columns in the data set\n",
    "* age: age of primary beneficiary\n",
    "* sex: insurance contractor gender, female, male\n",
    "* bmi: Body mass index, providing an understanding of body, weights that are relatively high or low relative to height,objective index of body weight (kg / m ^ 2) using the ratio of height to weight, ideally 18.5 to 24.9\n",
    "* children: Number of children covered by health insurance / Number of dependents\n",
    "* smoker: Smoking\n",
    "* region: the beneficiary's residential area in the US, northeast, southeast, southwest, northwest.\n",
    "* charges: Individual medical costs billed by health insurance"
   ]
  },
  {
   "cell_type": "code",
   "execution_count": null,
   "id": "0377b2b4",
   "metadata": {
    "execution": {
     "iopub.execute_input": "2022-10-24T00:30:15.923314Z",
     "iopub.status.busy": "2022-10-24T00:30:15.922469Z",
     "iopub.status.idle": "2022-10-24T00:30:15.976694Z",
     "shell.execute_reply": "2022-10-24T00:30:15.975314Z"
    },
    "papermill": {
     "duration": 0.07449,
     "end_time": "2022-10-24T00:30:15.980028",
     "exception": false,
     "start_time": "2022-10-24T00:30:15.905538",
     "status": "completed"
    },
    "tags": []
   },
   "outputs": [
    {
     "data": {
      "text/html": [
       "<div>\n",
       "<style scoped>\n",
       "    .dataframe tbody tr th:only-of-type {\n",
       "        vertical-align: middle;\n",
       "    }\n",
       "\n",
       "    .dataframe tbody tr th {\n",
       "        vertical-align: top;\n",
       "    }\n",
       "\n",
       "    .dataframe thead th {\n",
       "        text-align: right;\n",
       "    }\n",
       "</style>\n",
       "<table border=\"1\" class=\"dataframe\">\n",
       "  <thead>\n",
       "    <tr style=\"text-align: right;\">\n",
       "      <th></th>\n",
       "      <th>age</th>\n",
       "      <th>sex</th>\n",
       "      <th>bmi</th>\n",
       "      <th>children</th>\n",
       "      <th>smoker</th>\n",
       "      <th>region</th>\n",
       "      <th>charges</th>\n",
       "    </tr>\n",
       "  </thead>\n",
       "  <tbody>\n",
       "    <tr>\n",
       "      <th>0</th>\n",
       "      <td>19</td>\n",
       "      <td>female</td>\n",
       "      <td>27.900</td>\n",
       "      <td>0</td>\n",
       "      <td>yes</td>\n",
       "      <td>southwest</td>\n",
       "      <td>16884.92400</td>\n",
       "    </tr>\n",
       "    <tr>\n",
       "      <th>1</th>\n",
       "      <td>18</td>\n",
       "      <td>male</td>\n",
       "      <td>33.770</td>\n",
       "      <td>1</td>\n",
       "      <td>no</td>\n",
       "      <td>southeast</td>\n",
       "      <td>1725.55230</td>\n",
       "    </tr>\n",
       "    <tr>\n",
       "      <th>2</th>\n",
       "      <td>28</td>\n",
       "      <td>male</td>\n",
       "      <td>33.000</td>\n",
       "      <td>3</td>\n",
       "      <td>no</td>\n",
       "      <td>southeast</td>\n",
       "      <td>4449.46200</td>\n",
       "    </tr>\n",
       "    <tr>\n",
       "      <th>3</th>\n",
       "      <td>33</td>\n",
       "      <td>male</td>\n",
       "      <td>22.705</td>\n",
       "      <td>0</td>\n",
       "      <td>no</td>\n",
       "      <td>northwest</td>\n",
       "      <td>21984.47061</td>\n",
       "    </tr>\n",
       "    <tr>\n",
       "      <th>4</th>\n",
       "      <td>32</td>\n",
       "      <td>male</td>\n",
       "      <td>28.880</td>\n",
       "      <td>0</td>\n",
       "      <td>no</td>\n",
       "      <td>northwest</td>\n",
       "      <td>3866.85520</td>\n",
       "    </tr>\n",
       "  </tbody>\n",
       "</table>\n",
       "</div>"
      ],
      "text/plain": [
       "   age     sex     bmi  children smoker     region      charges\n",
       "0   19  female  27.900         0    yes  southwest  16884.92400\n",
       "1   18    male  33.770         1     no  southeast   1725.55230\n",
       "2   28    male  33.000         3     no  southeast   4449.46200\n",
       "3   33    male  22.705         0     no  northwest  21984.47061\n",
       "4   32    male  28.880         0     no  northwest   3866.85520"
      ]
     },
     "execution_count": 2,
     "metadata": {},
     "output_type": "execute_result"
    }
   ],
   "source": [
    "dataset = pd.read_csv('../input/insurance/insurance.csv')\n",
    "df = dataset.copy()\n",
    "\n",
    "# Check for the first 5 data \n",
    "\n",
    "df.head()"
   ]
  },
  {
   "cell_type": "code",
   "execution_count": null,
   "id": "ceabea0d",
   "metadata": {
    "execution": {
     "iopub.execute_input": "2022-10-24T00:30:16.008228Z",
     "iopub.status.busy": "2022-10-24T00:30:16.007362Z",
     "iopub.status.idle": "2022-10-24T00:30:16.037476Z",
     "shell.execute_reply": "2022-10-24T00:30:16.035002Z"
    },
    "papermill": {
     "duration": 0.048436,
     "end_time": "2022-10-24T00:30:16.041621",
     "exception": false,
     "start_time": "2022-10-24T00:30:15.993185",
     "status": "completed"
    },
    "tags": []
   },
   "outputs": [
    {
     "name": "stdout",
     "output_type": "stream",
     "text": [
      "<class 'pandas.core.frame.DataFrame'>\n",
      "RangeIndex: 1338 entries, 0 to 1337\n",
      "Data columns (total 7 columns):\n",
      " #   Column    Non-Null Count  Dtype  \n",
      "---  ------    --------------  -----  \n",
      " 0   age       1338 non-null   int64  \n",
      " 1   sex       1338 non-null   object \n",
      " 2   bmi       1338 non-null   float64\n",
      " 3   children  1338 non-null   int64  \n",
      " 4   smoker    1338 non-null   object \n",
      " 5   region    1338 non-null   object \n",
      " 6   charges   1338 non-null   float64\n",
      "dtypes: float64(2), int64(2), object(3)\n",
      "memory usage: 73.3+ KB\n"
     ]
    }
   ],
   "source": [
    "# Looking into type of data and if it is nullable\n",
    "\n",
    "df.info()"
   ]
  },
  {
   "cell_type": "code",
   "execution_count": null,
   "id": "7092e20a",
   "metadata": {
    "execution": {
     "iopub.execute_input": "2022-10-24T00:30:16.070352Z",
     "iopub.status.busy": "2022-10-24T00:30:16.069898Z",
     "iopub.status.idle": "2022-10-24T00:30:16.080156Z",
     "shell.execute_reply": "2022-10-24T00:30:16.078788Z"
    },
    "papermill": {
     "duration": 0.027492,
     "end_time": "2022-10-24T00:30:16.082895",
     "exception": false,
     "start_time": "2022-10-24T00:30:16.055403",
     "status": "completed"
    },
    "tags": []
   },
   "outputs": [
    {
     "data": {
      "text/plain": [
       "age         0\n",
       "sex         0\n",
       "bmi         0\n",
       "children    0\n",
       "smoker      0\n",
       "region      0\n",
       "charges     0\n",
       "dtype: int64"
      ]
     },
     "execution_count": 4,
     "metadata": {},
     "output_type": "execute_result"
    }
   ],
   "source": [
    "# Checking data missing values\n",
    "\n",
    "df.isna().sum()"
   ]
  },
  {
   "cell_type": "code",
   "execution_count": null,
   "id": "35ac8a3b",
   "metadata": {
    "execution": {
     "iopub.execute_input": "2022-10-24T00:30:16.110157Z",
     "iopub.status.busy": "2022-10-24T00:30:16.109738Z",
     "iopub.status.idle": "2022-10-24T00:30:16.117312Z",
     "shell.execute_reply": "2022-10-24T00:30:16.115914Z"
    },
    "papermill": {
     "duration": 0.024016,
     "end_time": "2022-10-24T00:30:16.119681",
     "exception": false,
     "start_time": "2022-10-24T00:30:16.095665",
     "status": "completed"
    },
    "tags": []
   },
   "outputs": [
    {
     "data": {
      "text/plain": [
       "(1338, 7)"
      ]
     },
     "execution_count": 5,
     "metadata": {},
     "output_type": "execute_result"
    }
   ],
   "source": [
    "# Look at the data shape (rows and columns)\n",
    "\n",
    "df.shape"
   ]
  },
  {
   "cell_type": "code",
   "execution_count": null,
   "id": "ed4742f3",
   "metadata": {
    "execution": {
     "iopub.execute_input": "2022-10-24T00:30:16.146784Z",
     "iopub.status.busy": "2022-10-24T00:30:16.146384Z",
     "iopub.status.idle": "2022-10-24T00:30:16.180634Z",
     "shell.execute_reply": "2022-10-24T00:30:16.179190Z"
    },
    "papermill": {
     "duration": 0.051919,
     "end_time": "2022-10-24T00:30:16.184254",
     "exception": false,
     "start_time": "2022-10-24T00:30:16.132335",
     "status": "completed"
    },
    "tags": []
   },
   "outputs": [
    {
     "data": {
      "text/html": [
       "<div>\n",
       "<style scoped>\n",
       "    .dataframe tbody tr th:only-of-type {\n",
       "        vertical-align: middle;\n",
       "    }\n",
       "\n",
       "    .dataframe tbody tr th {\n",
       "        vertical-align: top;\n",
       "    }\n",
       "\n",
       "    .dataframe thead th {\n",
       "        text-align: right;\n",
       "    }\n",
       "</style>\n",
       "<table border=\"1\" class=\"dataframe\">\n",
       "  <thead>\n",
       "    <tr style=\"text-align: right;\">\n",
       "      <th></th>\n",
       "      <th>count</th>\n",
       "      <th>mean</th>\n",
       "      <th>std</th>\n",
       "      <th>min</th>\n",
       "      <th>25%</th>\n",
       "      <th>50%</th>\n",
       "      <th>75%</th>\n",
       "      <th>max</th>\n",
       "    </tr>\n",
       "  </thead>\n",
       "  <tbody>\n",
       "    <tr>\n",
       "      <th>age</th>\n",
       "      <td>1338.0</td>\n",
       "      <td>39.207025</td>\n",
       "      <td>14.049960</td>\n",
       "      <td>18.0000</td>\n",
       "      <td>27.00000</td>\n",
       "      <td>39.000</td>\n",
       "      <td>51.000000</td>\n",
       "      <td>64.00000</td>\n",
       "    </tr>\n",
       "    <tr>\n",
       "      <th>bmi</th>\n",
       "      <td>1338.0</td>\n",
       "      <td>30.663397</td>\n",
       "      <td>6.098187</td>\n",
       "      <td>15.9600</td>\n",
       "      <td>26.29625</td>\n",
       "      <td>30.400</td>\n",
       "      <td>34.693750</td>\n",
       "      <td>53.13000</td>\n",
       "    </tr>\n",
       "    <tr>\n",
       "      <th>children</th>\n",
       "      <td>1338.0</td>\n",
       "      <td>1.094918</td>\n",
       "      <td>1.205493</td>\n",
       "      <td>0.0000</td>\n",
       "      <td>0.00000</td>\n",
       "      <td>1.000</td>\n",
       "      <td>2.000000</td>\n",
       "      <td>5.00000</td>\n",
       "    </tr>\n",
       "    <tr>\n",
       "      <th>charges</th>\n",
       "      <td>1338.0</td>\n",
       "      <td>13270.422265</td>\n",
       "      <td>12110.011237</td>\n",
       "      <td>1121.8739</td>\n",
       "      <td>4740.28715</td>\n",
       "      <td>9382.033</td>\n",
       "      <td>16639.912515</td>\n",
       "      <td>63770.42801</td>\n",
       "    </tr>\n",
       "  </tbody>\n",
       "</table>\n",
       "</div>"
      ],
      "text/plain": [
       "           count          mean           std        min         25%       50%  \\\n",
       "age       1338.0     39.207025     14.049960    18.0000    27.00000    39.000   \n",
       "bmi       1338.0     30.663397      6.098187    15.9600    26.29625    30.400   \n",
       "children  1338.0      1.094918      1.205493     0.0000     0.00000     1.000   \n",
       "charges   1338.0  13270.422265  12110.011237  1121.8739  4740.28715  9382.033   \n",
       "\n",
       "                   75%          max  \n",
       "age          51.000000     64.00000  \n",
       "bmi          34.693750     53.13000  \n",
       "children      2.000000      5.00000  \n",
       "charges   16639.912515  63770.42801  "
      ]
     },
     "execution_count": 6,
     "metadata": {},
     "output_type": "execute_result"
    }
   ],
   "source": [
    "# Outputing statstical summary of numeric data (age,bmi,children,charges)\n",
    "\n",
    "df.describe().T"
   ]
  },
  {
   "cell_type": "markdown",
   "id": "eae79e55",
   "metadata": {
    "papermill": {
     "duration": 0.016445,
     "end_time": "2022-10-24T00:30:16.217724",
     "exception": false,
     "start_time": "2022-10-24T00:30:16.201279",
     "status": "completed"
    },
    "tags": []
   },
   "source": [
    "# Preprocessing"
   ]
  },
  {
   "cell_type": "code",
   "execution_count": null,
   "id": "c3b57b97",
   "metadata": {
    "execution": {
     "iopub.execute_input": "2022-10-24T00:30:16.246927Z",
     "iopub.status.busy": "2022-10-24T00:30:16.245923Z",
     "iopub.status.idle": "2022-10-24T00:30:16.255099Z",
     "shell.execute_reply": "2022-10-24T00:30:16.253670Z"
    },
    "papermill": {
     "duration": 0.028317,
     "end_time": "2022-10-24T00:30:16.259265",
     "exception": false,
     "start_time": "2022-10-24T00:30:16.230948",
     "status": "completed"
    },
    "tags": []
   },
   "outputs": [
    {
     "data": {
      "text/plain": [
       "array(['female', 'male'], dtype=object)"
      ]
     },
     "execution_count": 7,
     "metadata": {},
     "output_type": "execute_result"
    }
   ],
   "source": [
    "# Looking into the data of the categorical features\n",
    "\n",
    "df['sex'].unique()\n",
    "# data['region']=data['region'].map({'southwest':1,'southeast':2,\n",
    "#                    'northwest':3,'northeast':4})"
   ]
  },
  {
   "cell_type": "code",
   "execution_count": null,
   "id": "be49e174",
   "metadata": {
    "execution": {
     "iopub.execute_input": "2022-10-24T00:30:16.288891Z",
     "iopub.status.busy": "2022-10-24T00:30:16.287798Z",
     "iopub.status.idle": "2022-10-24T00:30:16.295382Z",
     "shell.execute_reply": "2022-10-24T00:30:16.294316Z"
    },
    "papermill": {
     "duration": 0.024337,
     "end_time": "2022-10-24T00:30:16.297678",
     "exception": false,
     "start_time": "2022-10-24T00:30:16.273341",
     "status": "completed"
    },
    "tags": []
   },
   "outputs": [
    {
     "data": {
      "text/plain": [
       "array(['yes', 'no'], dtype=object)"
      ]
     },
     "execution_count": 8,
     "metadata": {},
     "output_type": "execute_result"
    }
   ],
   "source": [
    "df['smoker'].unique()"
   ]
  },
  {
   "cell_type": "code",
   "execution_count": null,
   "id": "bc46e3fb",
   "metadata": {
    "execution": {
     "iopub.execute_input": "2022-10-24T00:30:16.327811Z",
     "iopub.status.busy": "2022-10-24T00:30:16.326995Z",
     "iopub.status.idle": "2022-10-24T00:30:16.335246Z",
     "shell.execute_reply": "2022-10-24T00:30:16.334011Z"
    },
    "papermill": {
     "duration": 0.026772,
     "end_time": "2022-10-24T00:30:16.337946",
     "exception": false,
     "start_time": "2022-10-24T00:30:16.311174",
     "status": "completed"
    },
    "tags": []
   },
   "outputs": [
    {
     "data": {
      "text/plain": [
       "array(['southwest', 'southeast', 'northwest', 'northeast'], dtype=object)"
      ]
     },
     "execution_count": 9,
     "metadata": {},
     "output_type": "execute_result"
    }
   ],
   "source": [
    "df['region'].unique()"
   ]
  },
  {
   "cell_type": "markdown",
   "id": "35be771b",
   "metadata": {
    "papermill": {
     "duration": 0.012861,
     "end_time": "2022-10-24T00:30:16.364227",
     "exception": false,
     "start_time": "2022-10-24T00:30:16.351366",
     "status": "completed"
    },
    "tags": []
   },
   "source": [
    "# **Ordinal Encoding**\n",
    "Since (smoker,sex) only have 2 values each we manually map them to 0 and 1 "
   ]
  },
  {
   "cell_type": "code",
   "execution_count": null,
   "id": "a32757bf",
   "metadata": {
    "execution": {
     "iopub.execute_input": "2022-10-24T00:30:16.392611Z",
     "iopub.status.busy": "2022-10-24T00:30:16.392173Z",
     "iopub.status.idle": "2022-10-24T00:30:16.400741Z",
     "shell.execute_reply": "2022-10-24T00:30:16.399888Z"
    },
    "papermill": {
     "duration": 0.025354,
     "end_time": "2022-10-24T00:30:16.402936",
     "exception": false,
     "start_time": "2022-10-24T00:30:16.377582",
     "status": "completed"
    },
    "tags": []
   },
   "outputs": [],
   "source": [
    "df['sex']= df['sex'].map({'female':0,'male':1})\n",
    "df['smoker']= df['smoker'].map({'yes':1,'no':0})"
   ]
  },
  {
   "cell_type": "markdown",
   "id": "73a7b84b",
   "metadata": {
    "papermill": {
     "duration": 0.013336,
     "end_time": "2022-10-24T00:30:16.429501",
     "exception": false,
     "start_time": "2022-10-24T00:30:16.416165",
     "status": "completed"
    },
    "tags": []
   },
   "source": [
    "# **One Hot Encoding**\n",
    "\n",
    "For regions we creates new columns indicating the presence (or absence) of each possible value in the original regions."
   ]
  },
  {
   "cell_type": "code",
   "execution_count": null,
   "id": "40f519ff",
   "metadata": {
    "execution": {
     "iopub.execute_input": "2022-10-24T00:30:16.457597Z",
     "iopub.status.busy": "2022-10-24T00:30:16.457176Z",
     "iopub.status.idle": "2022-10-24T00:30:16.469675Z",
     "shell.execute_reply": "2022-10-24T00:30:16.468640Z"
    },
    "papermill": {
     "duration": 0.029306,
     "end_time": "2022-10-24T00:30:16.471895",
     "exception": false,
     "start_time": "2022-10-24T00:30:16.442589",
     "status": "completed"
    },
    "tags": []
   },
   "outputs": [
    {
     "data": {
      "text/html": [
       "<div>\n",
       "<style scoped>\n",
       "    .dataframe tbody tr th:only-of-type {\n",
       "        vertical-align: middle;\n",
       "    }\n",
       "\n",
       "    .dataframe tbody tr th {\n",
       "        vertical-align: top;\n",
       "    }\n",
       "\n",
       "    .dataframe thead th {\n",
       "        text-align: right;\n",
       "    }\n",
       "</style>\n",
       "<table border=\"1\" class=\"dataframe\">\n",
       "  <thead>\n",
       "    <tr style=\"text-align: right;\">\n",
       "      <th></th>\n",
       "      <th>northeast</th>\n",
       "      <th>northwest</th>\n",
       "      <th>southeast</th>\n",
       "      <th>southwest</th>\n",
       "    </tr>\n",
       "  </thead>\n",
       "  <tbody>\n",
       "    <tr>\n",
       "      <th>0</th>\n",
       "      <td>0</td>\n",
       "      <td>0</td>\n",
       "      <td>0</td>\n",
       "      <td>1</td>\n",
       "    </tr>\n",
       "    <tr>\n",
       "      <th>1</th>\n",
       "      <td>0</td>\n",
       "      <td>0</td>\n",
       "      <td>1</td>\n",
       "      <td>0</td>\n",
       "    </tr>\n",
       "    <tr>\n",
       "      <th>2</th>\n",
       "      <td>0</td>\n",
       "      <td>0</td>\n",
       "      <td>1</td>\n",
       "      <td>0</td>\n",
       "    </tr>\n",
       "    <tr>\n",
       "      <th>3</th>\n",
       "      <td>0</td>\n",
       "      <td>1</td>\n",
       "      <td>0</td>\n",
       "      <td>0</td>\n",
       "    </tr>\n",
       "    <tr>\n",
       "      <th>4</th>\n",
       "      <td>0</td>\n",
       "      <td>1</td>\n",
       "      <td>0</td>\n",
       "      <td>0</td>\n",
       "    </tr>\n",
       "  </tbody>\n",
       "</table>\n",
       "</div>"
      ],
      "text/plain": [
       "   northeast  northwest  southeast  southwest\n",
       "0          0          0          0          1\n",
       "1          0          0          1          0\n",
       "2          0          0          1          0\n",
       "3          0          1          0          0\n",
       "4          0          1          0          0"
      ]
     },
     "execution_count": 11,
     "metadata": {},
     "output_type": "execute_result"
    }
   ],
   "source": [
    "# Transforming categorical features (sex,smokers,regions) into numeric\n",
    "# Using One-Hot Encoding\n",
    "\n",
    "one_hot_region = pd.get_dummies(df['region'])\n",
    "one_hot_region.head()"
   ]
  },
  {
   "cell_type": "code",
   "execution_count": null,
   "id": "3df7cfc2",
   "metadata": {
    "execution": {
     "iopub.execute_input": "2022-10-24T00:30:16.500944Z",
     "iopub.status.busy": "2022-10-24T00:30:16.500008Z",
     "iopub.status.idle": "2022-10-24T00:30:16.508930Z",
     "shell.execute_reply": "2022-10-24T00:30:16.508092Z"
    },
    "papermill": {
     "duration": 0.025886,
     "end_time": "2022-10-24T00:30:16.511267",
     "exception": false,
     "start_time": "2022-10-24T00:30:16.485381",
     "status": "completed"
    },
    "tags": []
   },
   "outputs": [],
   "source": [
    "# Add in the new One-Hot Encoding\n",
    "df = pd.concat([df, one_hot_region], axis = 1)\n",
    "\n",
    "# Drop the original region column and replace them with the One-Hot Encoding\n",
    "df.drop('region',axis = 1, inplace = True)"
   ]
  },
  {
   "cell_type": "code",
   "execution_count": null,
   "id": "b9c0363a",
   "metadata": {
    "execution": {
     "iopub.execute_input": "2022-10-24T00:30:16.540528Z",
     "iopub.status.busy": "2022-10-24T00:30:16.539800Z",
     "iopub.status.idle": "2022-10-24T00:30:16.556455Z",
     "shell.execute_reply": "2022-10-24T00:30:16.555203Z"
    },
    "papermill": {
     "duration": 0.034309,
     "end_time": "2022-10-24T00:30:16.559052",
     "exception": false,
     "start_time": "2022-10-24T00:30:16.524743",
     "status": "completed"
    },
    "tags": []
   },
   "outputs": [
    {
     "data": {
      "text/html": [
       "<div>\n",
       "<style scoped>\n",
       "    .dataframe tbody tr th:only-of-type {\n",
       "        vertical-align: middle;\n",
       "    }\n",
       "\n",
       "    .dataframe tbody tr th {\n",
       "        vertical-align: top;\n",
       "    }\n",
       "\n",
       "    .dataframe thead th {\n",
       "        text-align: right;\n",
       "    }\n",
       "</style>\n",
       "<table border=\"1\" class=\"dataframe\">\n",
       "  <thead>\n",
       "    <tr style=\"text-align: right;\">\n",
       "      <th></th>\n",
       "      <th>age</th>\n",
       "      <th>sex</th>\n",
       "      <th>bmi</th>\n",
       "      <th>children</th>\n",
       "      <th>smoker</th>\n",
       "      <th>charges</th>\n",
       "      <th>northeast</th>\n",
       "      <th>northwest</th>\n",
       "      <th>southeast</th>\n",
       "      <th>southwest</th>\n",
       "    </tr>\n",
       "  </thead>\n",
       "  <tbody>\n",
       "    <tr>\n",
       "      <th>0</th>\n",
       "      <td>19</td>\n",
       "      <td>0</td>\n",
       "      <td>27.900</td>\n",
       "      <td>0</td>\n",
       "      <td>1</td>\n",
       "      <td>16884.92400</td>\n",
       "      <td>0</td>\n",
       "      <td>0</td>\n",
       "      <td>0</td>\n",
       "      <td>1</td>\n",
       "    </tr>\n",
       "    <tr>\n",
       "      <th>1</th>\n",
       "      <td>18</td>\n",
       "      <td>1</td>\n",
       "      <td>33.770</td>\n",
       "      <td>1</td>\n",
       "      <td>0</td>\n",
       "      <td>1725.55230</td>\n",
       "      <td>0</td>\n",
       "      <td>0</td>\n",
       "      <td>1</td>\n",
       "      <td>0</td>\n",
       "    </tr>\n",
       "    <tr>\n",
       "      <th>2</th>\n",
       "      <td>28</td>\n",
       "      <td>1</td>\n",
       "      <td>33.000</td>\n",
       "      <td>3</td>\n",
       "      <td>0</td>\n",
       "      <td>4449.46200</td>\n",
       "      <td>0</td>\n",
       "      <td>0</td>\n",
       "      <td>1</td>\n",
       "      <td>0</td>\n",
       "    </tr>\n",
       "    <tr>\n",
       "      <th>3</th>\n",
       "      <td>33</td>\n",
       "      <td>1</td>\n",
       "      <td>22.705</td>\n",
       "      <td>0</td>\n",
       "      <td>0</td>\n",
       "      <td>21984.47061</td>\n",
       "      <td>0</td>\n",
       "      <td>1</td>\n",
       "      <td>0</td>\n",
       "      <td>0</td>\n",
       "    </tr>\n",
       "    <tr>\n",
       "      <th>4</th>\n",
       "      <td>32</td>\n",
       "      <td>1</td>\n",
       "      <td>28.880</td>\n",
       "      <td>0</td>\n",
       "      <td>0</td>\n",
       "      <td>3866.85520</td>\n",
       "      <td>0</td>\n",
       "      <td>1</td>\n",
       "      <td>0</td>\n",
       "      <td>0</td>\n",
       "    </tr>\n",
       "  </tbody>\n",
       "</table>\n",
       "</div>"
      ],
      "text/plain": [
       "   age  sex     bmi  children  smoker      charges  northeast  northwest  \\\n",
       "0   19    0  27.900         0       1  16884.92400          0          0   \n",
       "1   18    1  33.770         1       0   1725.55230          0          0   \n",
       "2   28    1  33.000         3       0   4449.46200          0          0   \n",
       "3   33    1  22.705         0       0  21984.47061          0          1   \n",
       "4   32    1  28.880         0       0   3866.85520          0          1   \n",
       "\n",
       "   southeast  southwest  \n",
       "0          0          1  \n",
       "1          1          0  \n",
       "2          1          0  \n",
       "3          0          0  \n",
       "4          0          0  "
      ]
     },
     "execution_count": 13,
     "metadata": {},
     "output_type": "execute_result"
    }
   ],
   "source": [
    "# Check to see if the data is all numerical\n",
    "df.head()"
   ]
  },
  {
   "cell_type": "markdown",
   "id": "014e2967",
   "metadata": {
    "papermill": {
     "duration": 0.013371,
     "end_time": "2022-10-24T00:30:16.586184",
     "exception": false,
     "start_time": "2022-10-24T00:30:16.572813",
     "status": "completed"
    },
    "tags": []
   },
   "source": [
    "# Spliting Data # \n",
    "Remove our target away from our features\n",
    "\n",
    "* X will be our feature prediction\n",
    "* y wil be our target"
   ]
  },
  {
   "cell_type": "code",
   "execution_count": null,
   "id": "ed9bc6a3",
   "metadata": {
    "execution": {
     "iopub.execute_input": "2022-10-24T00:30:16.615457Z",
     "iopub.status.busy": "2022-10-24T00:30:16.615008Z",
     "iopub.status.idle": "2022-10-24T00:30:16.621402Z",
     "shell.execute_reply": "2022-10-24T00:30:16.620303Z"
    },
    "papermill": {
     "duration": 0.02382,
     "end_time": "2022-10-24T00:30:16.623668",
     "exception": false,
     "start_time": "2022-10-24T00:30:16.599848",
     "status": "completed"
    },
    "tags": []
   },
   "outputs": [],
   "source": [
    "X = df.drop('charges',axis = 1)\n",
    "y = df['charges']"
   ]
  },
  {
   "cell_type": "markdown",
   "id": "16cff5dd",
   "metadata": {
    "papermill": {
     "duration": 0.01344,
     "end_time": "2022-10-24T00:30:16.651381",
     "exception": false,
     "start_time": "2022-10-24T00:30:16.637941",
     "status": "completed"
    },
    "tags": []
   },
   "source": [
    "# Train Test Spliting"
   ]
  },
  {
   "cell_type": "code",
   "execution_count": null,
   "id": "38b414e6",
   "metadata": {
    "execution": {
     "iopub.execute_input": "2022-10-24T00:30:16.682199Z",
     "iopub.status.busy": "2022-10-24T00:30:16.681057Z",
     "iopub.status.idle": "2022-10-24T00:30:17.852511Z",
     "shell.execute_reply": "2022-10-24T00:30:17.851372Z"
    },
    "papermill": {
     "duration": 1.190083,
     "end_time": "2022-10-24T00:30:17.855168",
     "exception": false,
     "start_time": "2022-10-24T00:30:16.665085",
     "status": "completed"
    },
    "tags": []
   },
   "outputs": [],
   "source": [
    "# Importing the train_test_split package\n",
    "from sklearn.model_selection import train_test_split\n",
    "\n",
    "X_train, X_test, y_train, y_test = train_test_split(X,y,\n",
    "                                                    test_size = 0.2,\n",
    "                                                    random_state = 42)"
   ]
  },
  {
   "cell_type": "code",
   "execution_count": null,
   "id": "580e3210",
   "metadata": {
    "execution": {
     "iopub.execute_input": "2022-10-24T00:30:17.886326Z",
     "iopub.status.busy": "2022-10-24T00:30:17.885180Z",
     "iopub.status.idle": "2022-10-24T00:30:18.138898Z",
     "shell.execute_reply": "2022-10-24T00:30:18.137406Z"
    },
    "papermill": {
     "duration": 0.272686,
     "end_time": "2022-10-24T00:30:18.141842",
     "exception": false,
     "start_time": "2022-10-24T00:30:17.869156",
     "status": "completed"
    },
    "tags": []
   },
   "outputs": [],
   "source": [
    "# importing different models\n",
    "\n",
    "from sklearn.linear_model import LinearRegression\n",
    "from sklearn.svm import SVR\n",
    "from sklearn.ensemble import RandomForestRegressor\n",
    "from sklearn.tree import DecisionTreeRegressor\n",
    "from sklearn.ensemble import GradientBoostingRegressor"
   ]
  },
  {
   "cell_type": "code",
   "execution_count": null,
   "id": "c1cd1761",
   "metadata": {
    "execution": {
     "iopub.execute_input": "2022-10-24T00:30:18.171463Z",
     "iopub.status.busy": "2022-10-24T00:30:18.171030Z",
     "iopub.status.idle": "2022-10-24T00:30:18.176784Z",
     "shell.execute_reply": "2022-10-24T00:30:18.175436Z"
    },
    "papermill": {
     "duration": 0.023662,
     "end_time": "2022-10-24T00:30:18.179526",
     "exception": false,
     "start_time": "2022-10-24T00:30:18.155864",
     "status": "completed"
    },
    "tags": []
   },
   "outputs": [],
   "source": [
    "from sklearn.model_selection import cross_val_score, GridSearchCV"
   ]
  },
  {
   "cell_type": "code",
   "execution_count": null,
   "id": "a4e943a0",
   "metadata": {
    "execution": {
     "iopub.execute_input": "2022-10-24T00:30:18.211375Z",
     "iopub.status.busy": "2022-10-24T00:30:18.209925Z",
     "iopub.status.idle": "2022-10-24T00:30:18.217225Z",
     "shell.execute_reply": "2022-10-24T00:30:18.216037Z"
    },
    "papermill": {
     "duration": 0.025879,
     "end_time": "2022-10-24T00:30:18.219907",
     "exception": false,
     "start_time": "2022-10-24T00:30:18.194028",
     "status": "completed"
    },
    "tags": []
   },
   "outputs": [],
   "source": [
    "# define a function to evaluate the models\n",
    "\n",
    "def score_eval(scores):\n",
    "    scores = np.sqrt(-scores)\n",
    "    print(f\"\"\"\n",
    "          RMSE Scores: {scores}\n",
    "          Mean: {scores.mean()}\n",
    "          Standard Deviation : {scores.std()}\n",
    "          \"\"\")"
   ]
  },
  {
   "cell_type": "code",
   "execution_count": null,
   "id": "17c070f5",
   "metadata": {
    "execution": {
     "iopub.execute_input": "2022-10-24T00:30:18.249544Z",
     "iopub.status.busy": "2022-10-24T00:30:18.249062Z",
     "iopub.status.idle": "2022-10-24T00:30:18.328690Z",
     "shell.execute_reply": "2022-10-24T00:30:18.327348Z"
    },
    "papermill": {
     "duration": 0.09815,
     "end_time": "2022-10-24T00:30:18.331803",
     "exception": false,
     "start_time": "2022-10-24T00:30:18.233653",
     "status": "completed"
    },
    "tags": []
   },
   "outputs": [],
   "source": [
    "linreg_scores = cross_val_score (LinearRegression(), X_train, y_train,\n",
    "                                 scoring = 'neg_mean_squared_error', cv=10)"
   ]
  },
  {
   "cell_type": "code",
   "execution_count": null,
   "id": "b15ac4a0",
   "metadata": {
    "execution": {
     "iopub.execute_input": "2022-10-24T00:30:18.363277Z",
     "iopub.status.busy": "2022-10-24T00:30:18.362812Z",
     "iopub.status.idle": "2022-10-24T00:30:18.369276Z",
     "shell.execute_reply": "2022-10-24T00:30:18.368065Z"
    },
    "papermill": {
     "duration": 0.025151,
     "end_time": "2022-10-24T00:30:18.372188",
     "exception": false,
     "start_time": "2022-10-24T00:30:18.347037",
     "status": "completed"
    },
    "tags": []
   },
   "outputs": [
    {
     "name": "stdout",
     "output_type": "stream",
     "text": [
      "\n",
      "          RMSE Scores: [6073.99997254 6580.87166754 5233.82683473 6045.25239632 5836.4647871\n",
      " 6127.43525895 7281.08373608 6321.52706355 6193.3145481  5637.06299714]\n",
      "          Mean: 6133.0839262055\n",
      "          Standard Deviation : 520.7183652979136\n",
      "          \n"
     ]
    }
   ],
   "source": [
    "# Display all scores \n",
    "score_eval(linreg_scores)"
   ]
  },
  {
   "cell_type": "code",
   "execution_count": null,
   "id": "dc02748f",
   "metadata": {
    "execution": {
     "iopub.execute_input": "2022-10-24T00:30:18.403088Z",
     "iopub.status.busy": "2022-10-24T00:30:18.402626Z",
     "iopub.status.idle": "2022-10-24T00:30:21.829175Z",
     "shell.execute_reply": "2022-10-24T00:30:21.827511Z"
    },
    "papermill": {
     "duration": 3.446328,
     "end_time": "2022-10-24T00:30:21.832497",
     "exception": false,
     "start_time": "2022-10-24T00:30:18.386169",
     "status": "completed"
    },
    "tags": []
   },
   "outputs": [],
   "source": [
    "ranForest_scores = cross_val_score (RandomForestRegressor(), X_train, y_train,\n",
    "                                 scoring = 'neg_mean_squared_error', cv=10)"
   ]
  },
  {
   "cell_type": "code",
   "execution_count": null,
   "id": "d224e284",
   "metadata": {
    "execution": {
     "iopub.execute_input": "2022-10-24T00:30:21.864393Z",
     "iopub.status.busy": "2022-10-24T00:30:21.863925Z",
     "iopub.status.idle": "2022-10-24T00:30:21.870879Z",
     "shell.execute_reply": "2022-10-24T00:30:21.869415Z"
    },
    "papermill": {
     "duration": 0.026158,
     "end_time": "2022-10-24T00:30:21.874272",
     "exception": false,
     "start_time": "2022-10-24T00:30:21.848114",
     "status": "completed"
    },
    "tags": []
   },
   "outputs": [
    {
     "name": "stdout",
     "output_type": "stream",
     "text": [
      "\n",
      "          RMSE Scores: [4787.92538437 5264.23247723 3921.91142335 4391.38307997 5257.07845114\n",
      " 4944.21314058 5593.84539368 5389.06060756 5205.71593215 4679.09173734]\n",
      "          Mean: 4943.44576273742\n",
      "          Standard Deviation : 483.117307804376\n",
      "          \n"
     ]
    }
   ],
   "source": [
    "# Display all scores \n",
    "score_eval(ranForest_scores)"
   ]
  },
  {
   "cell_type": "code",
   "execution_count": null,
   "id": "17cebab6",
   "metadata": {
    "execution": {
     "iopub.execute_input": "2022-10-24T00:30:21.906120Z",
     "iopub.status.busy": "2022-10-24T00:30:21.905630Z",
     "iopub.status.idle": "2022-10-24T00:30:22.609131Z",
     "shell.execute_reply": "2022-10-24T00:30:22.608011Z"
    },
    "papermill": {
     "duration": 0.723636,
     "end_time": "2022-10-24T00:30:22.612075",
     "exception": false,
     "start_time": "2022-10-24T00:30:21.888439",
     "status": "completed"
    },
    "tags": []
   },
   "outputs": [],
   "source": [
    "svm_scores = cross_val_score (SVR(), X_train, y_train,\n",
    "                                 scoring = 'neg_mean_squared_error', cv=10)"
   ]
  },
  {
   "cell_type": "code",
   "execution_count": null,
   "id": "6d437564",
   "metadata": {
    "execution": {
     "iopub.execute_input": "2022-10-24T00:30:22.642095Z",
     "iopub.status.busy": "2022-10-24T00:30:22.641637Z",
     "iopub.status.idle": "2022-10-24T00:30:22.648232Z",
     "shell.execute_reply": "2022-10-24T00:30:22.646806Z"
    },
    "papermill": {
     "duration": 0.024642,
     "end_time": "2022-10-24T00:30:22.650752",
     "exception": false,
     "start_time": "2022-10-24T00:30:22.626110",
     "status": "completed"
    },
    "tags": []
   },
   "outputs": [
    {
     "name": "stdout",
     "output_type": "stream",
     "text": [
      "\n",
      "          RMSE Scores: [12545.69050299 12492.39078172 12837.35996149 14521.35165917\n",
      " 13015.92317698 10432.22441546 12341.21621862 12172.2310244\n",
      " 12952.29052569 12270.57033622]\n",
      "          Mean: 12558.124860275553\n",
      "          Standard Deviation : 953.9264581446631\n",
      "          \n"
     ]
    }
   ],
   "source": [
    "# Display all scores \n",
    "score_eval(svm_scores)"
   ]
  },
  {
   "cell_type": "code",
   "execution_count": null,
   "id": "7104368a",
   "metadata": {
    "execution": {
     "iopub.execute_input": "2022-10-24T00:30:22.680906Z",
     "iopub.status.busy": "2022-10-24T00:30:22.680477Z",
     "iopub.status.idle": "2022-10-24T00:30:22.767337Z",
     "shell.execute_reply": "2022-10-24T00:30:22.765708Z"
    },
    "papermill": {
     "duration": 0.105555,
     "end_time": "2022-10-24T00:30:22.770404",
     "exception": false,
     "start_time": "2022-10-24T00:30:22.664849",
     "status": "completed"
    },
    "tags": []
   },
   "outputs": [],
   "source": [
    "decisionForest = cross_val_score (DecisionTreeRegressor(), X_train, y_train,\n",
    "                                 scoring = 'neg_mean_squared_error', cv=10)"
   ]
  },
  {
   "cell_type": "code",
   "execution_count": null,
   "id": "be899ff5",
   "metadata": {
    "execution": {
     "iopub.execute_input": "2022-10-24T00:30:22.800144Z",
     "iopub.status.busy": "2022-10-24T00:30:22.799696Z",
     "iopub.status.idle": "2022-10-24T00:30:22.806934Z",
     "shell.execute_reply": "2022-10-24T00:30:22.805381Z"
    },
    "papermill": {
     "duration": 0.025163,
     "end_time": "2022-10-24T00:30:22.809578",
     "exception": false,
     "start_time": "2022-10-24T00:30:22.784415",
     "status": "completed"
    },
    "tags": []
   },
   "outputs": [
    {
     "name": "stdout",
     "output_type": "stream",
     "text": [
      "\n",
      "          RMSE Scores: [5822.60326009 6661.92693551 7062.01558147 6823.11996235 7232.64282777\n",
      " 6159.43791389 7616.23917093 6668.51086082 6580.39410245 5840.8507411 ]\n",
      "          Mean: 6646.774135637717\n",
      "          Standard Deviation : 552.992136685402\n",
      "          \n"
     ]
    }
   ],
   "source": [
    "# Display all scores \n",
    "score_eval(decisionForest)"
   ]
  },
  {
   "cell_type": "code",
   "execution_count": null,
   "id": "3ebfb300",
   "metadata": {
    "execution": {
     "iopub.execute_input": "2022-10-24T00:30:22.840618Z",
     "iopub.status.busy": "2022-10-24T00:30:22.840124Z",
     "iopub.status.idle": "2022-10-24T00:30:23.918404Z",
     "shell.execute_reply": "2022-10-24T00:30:23.917192Z"
    },
    "papermill": {
     "duration": 1.097075,
     "end_time": "2022-10-24T00:30:23.921631",
     "exception": false,
     "start_time": "2022-10-24T00:30:22.824556",
     "status": "completed"
    },
    "tags": []
   },
   "outputs": [],
   "source": [
    "gradientBoost = cross_val_score (GradientBoostingRegressor(), X_train, y_train,\n",
    "                                 scoring = 'neg_mean_squared_error', cv=10)"
   ]
  },
  {
   "cell_type": "code",
   "execution_count": null,
   "id": "ae613bd8",
   "metadata": {
    "execution": {
     "iopub.execute_input": "2022-10-24T00:30:23.953534Z",
     "iopub.status.busy": "2022-10-24T00:30:23.953109Z",
     "iopub.status.idle": "2022-10-24T00:30:23.959373Z",
     "shell.execute_reply": "2022-10-24T00:30:23.958042Z"
    },
    "papermill": {
     "duration": 0.025524,
     "end_time": "2022-10-24T00:30:23.962679",
     "exception": false,
     "start_time": "2022-10-24T00:30:23.937155",
     "status": "completed"
    },
    "tags": []
   },
   "outputs": [
    {
     "name": "stdout",
     "output_type": "stream",
     "text": [
      "\n",
      "          RMSE Scores: [4603.82502154 4938.60773456 3367.58152847 3840.41278537 4761.83970827\n",
      " 4672.67492152 5570.99211731 5022.74831213 4772.34996475 4716.36508299]\n",
      "          Mean: 4626.7397176914965\n",
      "          Standard Deviation : 583.061629233928\n",
      "          \n"
     ]
    }
   ],
   "source": [
    "# Display all scores \n",
    "score_eval(gradientBoost)"
   ]
  },
  {
   "cell_type": "markdown",
   "id": "bfdbb6cb",
   "metadata": {
    "papermill": {
     "duration": 0.013837,
     "end_time": "2022-10-24T00:30:23.991552",
     "exception": false,
     "start_time": "2022-10-24T00:30:23.977715",
     "status": "completed"
    },
    "tags": []
   },
   "source": [
    "With RandomForestRegession has the lowest scores, we will continue using the model"
   ]
  },
  {
   "cell_type": "markdown",
   "id": "ce430dce",
   "metadata": {
    "papermill": {
     "duration": 0.013777,
     "end_time": "2022-10-24T00:30:24.019542",
     "exception": false,
     "start_time": "2022-10-24T00:30:24.005765",
     "status": "completed"
    },
    "tags": []
   },
   "source": [
    "# **Parameter Tuning**\n",
    "Tuning parameters to find the best parameters for the model"
   ]
  },
  {
   "cell_type": "code",
   "execution_count": null,
   "id": "14d0008f",
   "metadata": {
    "execution": {
     "iopub.execute_input": "2022-10-24T00:30:24.050767Z",
     "iopub.status.busy": "2022-10-24T00:30:24.050346Z",
     "iopub.status.idle": "2022-10-24T00:30:24.056783Z",
     "shell.execute_reply": "2022-10-24T00:30:24.055391Z"
    },
    "papermill": {
     "duration": 0.024756,
     "end_time": "2022-10-24T00:30:24.059454",
     "exception": false,
     "start_time": "2022-10-24T00:30:24.034698",
     "status": "completed"
    },
    "tags": []
   },
   "outputs": [],
   "source": [
    "params = {'n_estimators': [3, 5, 10, 20, 50, 70, 100],\n",
    "          'n_jobs': [2, 3, 5, 8, 10, 12, 15]}"
   ]
  },
  {
   "cell_type": "code",
   "execution_count": null,
   "id": "aa338b0a",
   "metadata": {
    "execution": {
     "iopub.execute_input": "2022-10-24T00:30:24.090358Z",
     "iopub.status.busy": "2022-10-24T00:30:24.089880Z",
     "iopub.status.idle": "2022-10-24T00:30:24.096043Z",
     "shell.execute_reply": "2022-10-24T00:30:24.094710Z"
    },
    "papermill": {
     "duration": 0.02494,
     "end_time": "2022-10-24T00:30:24.098659",
     "exception": false,
     "start_time": "2022-10-24T00:30:24.073719",
     "status": "completed"
    },
    "tags": []
   },
   "outputs": [],
   "source": [
    "grid_s = GridSearchCV(RandomForestRegressor(), params, cv = 5,\n",
    "                      scoring = 'neg_mean_squared_error')"
   ]
  },
  {
   "cell_type": "code",
   "execution_count": null,
   "id": "1c6be635",
   "metadata": {
    "execution": {
     "iopub.execute_input": "2022-10-24T00:30:24.129133Z",
     "iopub.status.busy": "2022-10-24T00:30:24.128662Z",
     "iopub.status.idle": "2022-10-24T00:31:55.703676Z",
     "shell.execute_reply": "2022-10-24T00:31:55.702173Z"
    },
    "papermill": {
     "duration": 91.608576,
     "end_time": "2022-10-24T00:31:55.721494",
     "exception": false,
     "start_time": "2022-10-24T00:30:24.112918",
     "status": "completed"
    },
    "tags": []
   },
   "outputs": [
    {
     "data": {
      "text/plain": [
       "GridSearchCV(cv=5, estimator=RandomForestRegressor(),\n",
       "             param_grid={'n_estimators': [3, 5, 10, 20, 50, 70, 100],\n",
       "                         'n_jobs': [2, 3, 5, 8, 10, 12, 15]},\n",
       "             scoring='neg_mean_squared_error')"
      ]
     },
     "execution_count": 31,
     "metadata": {},
     "output_type": "execute_result"
    }
   ],
   "source": [
    "grid_s.fit(X_train, y_train)"
   ]
  },
  {
   "cell_type": "code",
   "execution_count": null,
   "id": "58973f27",
   "metadata": {
    "execution": {
     "iopub.execute_input": "2022-10-24T00:31:55.776486Z",
     "iopub.status.busy": "2022-10-24T00:31:55.775286Z",
     "iopub.status.idle": "2022-10-24T00:31:55.784991Z",
     "shell.execute_reply": "2022-10-24T00:31:55.783579Z"
    },
    "papermill": {
     "duration": 0.040915,
     "end_time": "2022-10-24T00:31:55.787855",
     "exception": false,
     "start_time": "2022-10-24T00:31:55.746940",
     "status": "completed"
    },
    "tags": []
   },
   "outputs": [
    {
     "data": {
      "text/plain": [
       "{'n_estimators': 70, 'n_jobs': 8}"
      ]
     },
     "execution_count": 32,
     "metadata": {},
     "output_type": "execute_result"
    }
   ],
   "source": [
    "grid_s.best_params_"
   ]
  },
  {
   "cell_type": "code",
   "execution_count": null,
   "id": "4c363e60",
   "metadata": {
    "execution": {
     "iopub.execute_input": "2022-10-24T00:31:55.826284Z",
     "iopub.status.busy": "2022-10-24T00:31:55.825170Z",
     "iopub.status.idle": "2022-10-24T00:31:55.838387Z",
     "shell.execute_reply": "2022-10-24T00:31:55.837165Z"
    },
    "papermill": {
     "duration": 0.033313,
     "end_time": "2022-10-24T00:31:55.841657",
     "exception": false,
     "start_time": "2022-10-24T00:31:55.808344",
     "status": "completed"
    },
    "tags": []
   },
   "outputs": [
    {
     "name": "stdout",
     "output_type": "stream",
     "text": [
      "5537.389608293812      {'n_estimators': 3, 'n_jobs': 2}\n",
      "5696.046817386897      {'n_estimators': 3, 'n_jobs': 3}\n",
      "5674.766959766677      {'n_estimators': 3, 'n_jobs': 5}\n",
      "5790.276563259737      {'n_estimators': 3, 'n_jobs': 8}\n",
      "5659.182678149859      {'n_estimators': 3, 'n_jobs': 10}\n",
      "5488.812745008263      {'n_estimators': 3, 'n_jobs': 12}\n",
      "5359.5162957384355      {'n_estimators': 3, 'n_jobs': 15}\n",
      "5305.08465056891      {'n_estimators': 5, 'n_jobs': 2}\n",
      "5256.238242548056      {'n_estimators': 5, 'n_jobs': 3}\n",
      "5400.330336645441      {'n_estimators': 5, 'n_jobs': 5}\n",
      "5284.634037599105      {'n_estimators': 5, 'n_jobs': 8}\n",
      "5383.132859270321      {'n_estimators': 5, 'n_jobs': 10}\n",
      "5254.714079144711      {'n_estimators': 5, 'n_jobs': 12}\n",
      "5388.745967522668      {'n_estimators': 5, 'n_jobs': 15}\n",
      "5012.902172873897      {'n_estimators': 10, 'n_jobs': 2}\n",
      "5140.820935710741      {'n_estimators': 10, 'n_jobs': 3}\n",
      "5108.858555437097      {'n_estimators': 10, 'n_jobs': 5}\n",
      "5121.0179904498345      {'n_estimators': 10, 'n_jobs': 8}\n",
      "5080.249477206236      {'n_estimators': 10, 'n_jobs': 10}\n",
      "5223.60679455622      {'n_estimators': 10, 'n_jobs': 12}\n",
      "5108.299711252405      {'n_estimators': 10, 'n_jobs': 15}\n",
      "5018.485426314138      {'n_estimators': 20, 'n_jobs': 2}\n",
      "5045.186190660202      {'n_estimators': 20, 'n_jobs': 3}\n",
      "5036.203620587132      {'n_estimators': 20, 'n_jobs': 5}\n",
      "5014.82793008094      {'n_estimators': 20, 'n_jobs': 8}\n",
      "4974.170470428062      {'n_estimators': 20, 'n_jobs': 10}\n",
      "5020.003651782217      {'n_estimators': 20, 'n_jobs': 12}\n",
      "5034.636679638316      {'n_estimators': 20, 'n_jobs': 15}\n",
      "4914.8251969418825      {'n_estimators': 50, 'n_jobs': 2}\n",
      "4989.714183090776      {'n_estimators': 50, 'n_jobs': 3}\n",
      "4973.989932998999      {'n_estimators': 50, 'n_jobs': 5}\n",
      "4960.339592343342      {'n_estimators': 50, 'n_jobs': 8}\n",
      "4964.912476515284      {'n_estimators': 50, 'n_jobs': 10}\n",
      "4941.568585746273      {'n_estimators': 50, 'n_jobs': 12}\n",
      "4929.614698939703      {'n_estimators': 50, 'n_jobs': 15}\n",
      "4935.700989378789      {'n_estimators': 70, 'n_jobs': 2}\n",
      "4949.051294930911      {'n_estimators': 70, 'n_jobs': 3}\n",
      "4921.734409463919      {'n_estimators': 70, 'n_jobs': 5}\n",
      "4898.832316963241      {'n_estimators': 70, 'n_jobs': 8}\n",
      "4930.068686863307      {'n_estimators': 70, 'n_jobs': 10}\n",
      "4969.43821185672      {'n_estimators': 70, 'n_jobs': 12}\n",
      "4953.947383269572      {'n_estimators': 70, 'n_jobs': 15}\n",
      "4942.429475812353      {'n_estimators': 100, 'n_jobs': 2}\n",
      "4943.187883001655      {'n_estimators': 100, 'n_jobs': 3}\n",
      "4933.879748551182      {'n_estimators': 100, 'n_jobs': 5}\n",
      "4915.176647003518      {'n_estimators': 100, 'n_jobs': 8}\n",
      "4930.398703475875      {'n_estimators': 100, 'n_jobs': 10}\n",
      "4933.558787470835      {'n_estimators': 100, 'n_jobs': 12}\n",
      "4923.720660492487      {'n_estimators': 100, 'n_jobs': 15}\n"
     ]
    }
   ],
   "source": [
    "# Printing all RMSE and the parameters\n",
    "\n",
    "for mean_score,params in zip((grid_s.cv_results_['mean_test_score']),\n",
    "                            (grid_s.cv_results_['params'])):\n",
    "    print(np.sqrt(-mean_score),'    ',params)"
   ]
  },
  {
   "cell_type": "markdown",
   "id": "aaf4eda6",
   "metadata": {
    "papermill": {
     "duration": 0.021569,
     "end_time": "2022-10-24T00:31:55.885833",
     "exception": false,
     "start_time": "2022-10-24T00:31:55.864264",
     "status": "completed"
    },
    "tags": []
   },
   "source": [
    "# **Predicting**\n",
    "Predicting the target after we preprocessed the data and choose an appropriate model :)"
   ]
  },
  {
   "cell_type": "code",
   "execution_count": null,
   "id": "5ed98c6b",
   "metadata": {
    "execution": {
     "iopub.execute_input": "2022-10-24T00:31:55.917773Z",
     "iopub.status.busy": "2022-10-24T00:31:55.917337Z",
     "iopub.status.idle": "2022-10-24T00:31:56.029356Z",
     "shell.execute_reply": "2022-10-24T00:31:56.028380Z"
    },
    "papermill": {
     "duration": 0.132226,
     "end_time": "2022-10-24T00:31:56.033124",
     "exception": false,
     "start_time": "2022-10-24T00:31:55.900898",
     "status": "completed"
    },
    "tags": []
   },
   "outputs": [],
   "source": [
    "predictions = grid_s.best_estimator_.predict(X_test)"
   ]
  },
  {
   "cell_type": "code",
   "execution_count": null,
   "id": "d5826289",
   "metadata": {
    "execution": {
     "iopub.execute_input": "2022-10-24T00:31:56.067303Z",
     "iopub.status.busy": "2022-10-24T00:31:56.066808Z",
     "iopub.status.idle": "2022-10-24T00:31:56.074225Z",
     "shell.execute_reply": "2022-10-24T00:31:56.073410Z"
    },
    "papermill": {
     "duration": 0.025309,
     "end_time": "2022-10-24T00:31:56.076345",
     "exception": false,
     "start_time": "2022-10-24T00:31:56.051036",
     "status": "completed"
    },
    "tags": []
   },
   "outputs": [
    {
     "data": {
      "text/plain": [
       "array([ 9095.06825,  5272.1758 , 29330.98315,  9301.89355, 33750.2918 ,\n",
       "        4536.259  ,  2117.33885, 14210.53595,  3732.6251 , 10264.4421 ])"
      ]
     },
     "execution_count": 35,
     "metadata": {},
     "output_type": "execute_result"
    }
   ],
   "source": [
    "y_test[0:10].values"
   ]
  },
  {
   "cell_type": "code",
   "execution_count": null,
   "id": "587e6f3b",
   "metadata": {
    "execution": {
     "iopub.execute_input": "2022-10-24T00:31:56.107713Z",
     "iopub.status.busy": "2022-10-24T00:31:56.106980Z",
     "iopub.status.idle": "2022-10-24T00:31:56.121120Z",
     "shell.execute_reply": "2022-10-24T00:31:56.119818Z"
    },
    "papermill": {
     "duration": 0.032741,
     "end_time": "2022-10-24T00:31:56.123755",
     "exception": false,
     "start_time": "2022-10-24T00:31:56.091014",
     "status": "completed"
    },
    "tags": []
   },
   "outputs": [
    {
     "data": {
      "text/html": [
       "<div>\n",
       "<style scoped>\n",
       "    .dataframe tbody tr th:only-of-type {\n",
       "        vertical-align: middle;\n",
       "    }\n",
       "\n",
       "    .dataframe tbody tr th {\n",
       "        vertical-align: top;\n",
       "    }\n",
       "\n",
       "    .dataframe thead th {\n",
       "        text-align: right;\n",
       "    }\n",
       "</style>\n",
       "<table border=\"1\" class=\"dataframe\">\n",
       "  <thead>\n",
       "    <tr style=\"text-align: right;\">\n",
       "      <th></th>\n",
       "      <th>Y Test</th>\n",
       "      <th>Predictions</th>\n",
       "    </tr>\n",
       "  </thead>\n",
       "  <tbody>\n",
       "    <tr>\n",
       "      <th>0</th>\n",
       "      <td>9095.06825</td>\n",
       "      <td>10162.978032</td>\n",
       "    </tr>\n",
       "    <tr>\n",
       "      <th>1</th>\n",
       "      <td>5272.17580</td>\n",
       "      <td>5643.367122</td>\n",
       "    </tr>\n",
       "    <tr>\n",
       "      <th>2</th>\n",
       "      <td>29330.98315</td>\n",
       "      <td>28047.231102</td>\n",
       "    </tr>\n",
       "    <tr>\n",
       "      <th>3</th>\n",
       "      <td>9301.89355</td>\n",
       "      <td>11384.651592</td>\n",
       "    </tr>\n",
       "    <tr>\n",
       "      <th>4</th>\n",
       "      <td>33750.29180</td>\n",
       "      <td>34606.424351</td>\n",
       "    </tr>\n",
       "    <tr>\n",
       "      <th>5</th>\n",
       "      <td>4536.25900</td>\n",
       "      <td>8803.980034</td>\n",
       "    </tr>\n",
       "    <tr>\n",
       "      <th>6</th>\n",
       "      <td>2117.33885</td>\n",
       "      <td>2084.803017</td>\n",
       "    </tr>\n",
       "    <tr>\n",
       "      <th>7</th>\n",
       "      <td>14210.53595</td>\n",
       "      <td>14242.508763</td>\n",
       "    </tr>\n",
       "    <tr>\n",
       "      <th>8</th>\n",
       "      <td>3732.62510</td>\n",
       "      <td>6094.430697</td>\n",
       "    </tr>\n",
       "    <tr>\n",
       "      <th>9</th>\n",
       "      <td>10264.44210</td>\n",
       "      <td>11275.376706</td>\n",
       "    </tr>\n",
       "  </tbody>\n",
       "</table>\n",
       "</div>"
      ],
      "text/plain": [
       "        Y Test   Predictions\n",
       "0   9095.06825  10162.978032\n",
       "1   5272.17580   5643.367122\n",
       "2  29330.98315  28047.231102\n",
       "3   9301.89355  11384.651592\n",
       "4  33750.29180  34606.424351\n",
       "5   4536.25900   8803.980034\n",
       "6   2117.33885   2084.803017\n",
       "7  14210.53595  14242.508763\n",
       "8   3732.62510   6094.430697\n",
       "9  10264.44210  11275.376706"
      ]
     },
     "execution_count": 36,
     "metadata": {},
     "output_type": "execute_result"
    }
   ],
   "source": [
    "comparison = pd.DataFrame({'Y Test': y_test[0:10].values,\n",
    "                           'Predictions': predictions[0:10]})\n",
    "comparison"
   ]
  },
  {
   "cell_type": "markdown",
   "id": "db33f626",
   "metadata": {
    "papermill": {
     "duration": 0.022322,
     "end_time": "2022-10-24T00:31:56.161386",
     "exception": false,
     "start_time": "2022-10-24T00:31:56.139064",
     "status": "completed"
    },
    "tags": []
   },
   "source": [
    "Some are still off compared to the actual value. Now we evaluate our model"
   ]
  },
  {
   "cell_type": "markdown",
   "id": "e053ead2",
   "metadata": {
    "papermill": {
     "duration": 0.017914,
     "end_time": "2022-10-24T00:31:56.197440",
     "exception": false,
     "start_time": "2022-10-24T00:31:56.179526",
     "status": "completed"
    },
    "tags": []
   },
   "source": [
    "# **Evaluation**\n",
    "\n",
    "We use different evaluation methods such as:\n",
    "- R-squared\n",
    "- Mean Squared Error (MSE)\n",
    "- Mean Absolute Error (MAE)"
   ]
  },
  {
   "cell_type": "code",
   "execution_count": null,
   "id": "c97ef6d3",
   "metadata": {
    "execution": {
     "iopub.execute_input": "2022-10-24T00:31:56.233532Z",
     "iopub.status.busy": "2022-10-24T00:31:56.232508Z",
     "iopub.status.idle": "2022-10-24T00:31:56.239415Z",
     "shell.execute_reply": "2022-10-24T00:31:56.237926Z"
    },
    "papermill": {
     "duration": 0.028662,
     "end_time": "2022-10-24T00:31:56.243172",
     "exception": false,
     "start_time": "2022-10-24T00:31:56.214510",
     "status": "completed"
    },
    "tags": []
   },
   "outputs": [],
   "source": [
    "# Importing the errors\n",
    "\n",
    "from sklearn.metrics import mean_squared_error,r2_score,mean_absolute_error"
   ]
  },
  {
   "cell_type": "code",
   "execution_count": null,
   "id": "767496c8",
   "metadata": {
    "execution": {
     "iopub.execute_input": "2022-10-24T00:31:56.278161Z",
     "iopub.status.busy": "2022-10-24T00:31:56.277487Z",
     "iopub.status.idle": "2022-10-24T00:31:56.283417Z",
     "shell.execute_reply": "2022-10-24T00:31:56.282376Z"
    },
    "papermill": {
     "duration": 0.026566,
     "end_time": "2022-10-24T00:31:56.286241",
     "exception": false,
     "start_time": "2022-10-24T00:31:56.259675",
     "status": "completed"
    },
    "tags": []
   },
   "outputs": [],
   "source": [
    "# Building a regresssion evaluations\n",
    "\n",
    "def regression_eval(preds):\n",
    "    mse = mean_squared_error(y_test,preds)\n",
    "    rmse = np.sqrt(mse)\n",
    "    r_squared = r2_score(y_test,preds)\n",
    "    mae = mean_absolute_error(y_test,preds)\n",
    "    \n",
    "    print(f\"\"\"Mean Absolute Error: {mae}\n",
    "            Mean Squared Error: {mse}\n",
    "            Root Mean Squared Error: {rmse}\n",
    "            Squared Value: {r_squared}\"\"\")"
   ]
  },
  {
   "cell_type": "code",
   "execution_count": null,
   "id": "5d5b9d7a",
   "metadata": {
    "execution": {
     "iopub.execute_input": "2022-10-24T00:31:56.320321Z",
     "iopub.status.busy": "2022-10-24T00:31:56.319849Z",
     "iopub.status.idle": "2022-10-24T00:31:56.327517Z",
     "shell.execute_reply": "2022-10-24T00:31:56.326064Z"
    },
    "papermill": {
     "duration": 0.027694,
     "end_time": "2022-10-24T00:31:56.330395",
     "exception": false,
     "start_time": "2022-10-24T00:31:56.302701",
     "status": "completed"
    },
    "tags": []
   },
   "outputs": [
    {
     "name": "stdout",
     "output_type": "stream",
     "text": [
      "Mean Absolute Error: 2552.9342673818414\n",
      "            Mean Squared Error: 21742433.0444859\n",
      "            Root Mean Squared Error: 4662.87819318561\n",
      "            Squared Value: 0.8599509777918024\n"
     ]
    }
   ],
   "source": [
    "regression_eval(predictions)"
   ]
  },
  {
   "cell_type": "markdown",
   "id": "e7b7ee6a",
   "metadata": {
    "papermill": {
     "duration": 0.017106,
     "end_time": "2022-10-24T00:31:56.362610",
     "exception": false,
     "start_time": "2022-10-24T00:31:56.345504",
     "status": "completed"
    },
    "tags": []
   },
   "source": [
    "Adding a clone data "
   ]
  },
  {
   "cell_type": "code",
   "execution_count": null,
   "id": "f7425976",
   "metadata": {
    "execution": {
     "iopub.execute_input": "2022-10-24T00:31:56.400948Z",
     "iopub.status.busy": "2022-10-24T00:31:56.399785Z",
     "iopub.status.idle": "2022-10-24T00:31:56.407286Z",
     "shell.execute_reply": "2022-10-24T00:31:56.406049Z"
    },
    "papermill": {
     "duration": 0.029825,
     "end_time": "2022-10-24T00:31:56.410023",
     "exception": false,
     "start_time": "2022-10-24T00:31:56.380198",
     "status": "completed"
    },
    "tags": []
   },
   "outputs": [],
   "source": [
    "data = {'age' : 40,\n",
    "        'sex' : 1,\n",
    "        'bmi' : 40.30,\n",
    "        'children' : 4,\n",
    "        'smoker' : 1,\n",
    "        'northeast' : 0,\n",
    "        'northwest' : 1,\n",
    "        'southeast' : 0,\n",
    "        'southwest' : 0}"
   ]
  },
  {
   "cell_type": "code",
   "execution_count": null,
   "id": "7a76c374",
   "metadata": {
    "execution": {
     "iopub.execute_input": "2022-10-24T00:31:56.447237Z",
     "iopub.status.busy": "2022-10-24T00:31:56.446773Z",
     "iopub.status.idle": "2022-10-24T00:31:56.463221Z",
     "shell.execute_reply": "2022-10-24T00:31:56.462058Z"
    },
    "papermill": {
     "duration": 0.039496,
     "end_time": "2022-10-24T00:31:56.465858",
     "exception": false,
     "start_time": "2022-10-24T00:31:56.426362",
     "status": "completed"
    },
    "tags": []
   },
   "outputs": [
    {
     "data": {
      "text/html": [
       "<div>\n",
       "<style scoped>\n",
       "    .dataframe tbody tr th:only-of-type {\n",
       "        vertical-align: middle;\n",
       "    }\n",
       "\n",
       "    .dataframe tbody tr th {\n",
       "        vertical-align: top;\n",
       "    }\n",
       "\n",
       "    .dataframe thead th {\n",
       "        text-align: right;\n",
       "    }\n",
       "</style>\n",
       "<table border=\"1\" class=\"dataframe\">\n",
       "  <thead>\n",
       "    <tr style=\"text-align: right;\">\n",
       "      <th></th>\n",
       "      <th>age</th>\n",
       "      <th>sex</th>\n",
       "      <th>bmi</th>\n",
       "      <th>children</th>\n",
       "      <th>smoker</th>\n",
       "      <th>northeast</th>\n",
       "      <th>northwest</th>\n",
       "      <th>southeast</th>\n",
       "      <th>southwest</th>\n",
       "    </tr>\n",
       "  </thead>\n",
       "  <tbody>\n",
       "    <tr>\n",
       "      <th>0</th>\n",
       "      <td>40</td>\n",
       "      <td>1</td>\n",
       "      <td>40.3</td>\n",
       "      <td>4</td>\n",
       "      <td>1</td>\n",
       "      <td>0</td>\n",
       "      <td>1</td>\n",
       "      <td>0</td>\n",
       "      <td>0</td>\n",
       "    </tr>\n",
       "  </tbody>\n",
       "</table>\n",
       "</div>"
      ],
      "text/plain": [
       "   age  sex   bmi  children  smoker  northeast  northwest  southeast  \\\n",
       "0   40    1  40.3         4       1          0          1          0   \n",
       "\n",
       "   southwest  \n",
       "0          0  "
      ]
     },
     "execution_count": 41,
     "metadata": {},
     "output_type": "execute_result"
    }
   ],
   "source": [
    "df = pd.DataFrame(data,index=[0])\n",
    "df"
   ]
  },
  {
   "cell_type": "code",
   "execution_count": null,
   "id": "9af939d4",
   "metadata": {
    "execution": {
     "iopub.execute_input": "2022-10-24T00:31:56.498581Z",
     "iopub.status.busy": "2022-10-24T00:31:56.497764Z",
     "iopub.status.idle": "2022-10-24T00:31:56.968334Z",
     "shell.execute_reply": "2022-10-24T00:31:56.967175Z"
    },
    "papermill": {
     "duration": 0.48978,
     "end_time": "2022-10-24T00:31:56.970865",
     "exception": false,
     "start_time": "2022-10-24T00:31:56.481085",
     "status": "completed"
    },
    "tags": []
   },
   "outputs": [
    {
     "data": {
      "text/plain": [
       "RandomForestRegressor()"
      ]
     },
     "execution_count": 42,
     "metadata": {},
     "output_type": "execute_result"
    }
   ],
   "source": [
    "rf = RandomForestRegressor()\n",
    "rf.fit(X,y)"
   ]
  },
  {
   "cell_type": "code",
   "execution_count": null,
   "id": "a66afc8f",
   "metadata": {
    "execution": {
     "iopub.execute_input": "2022-10-24T00:31:57.005161Z",
     "iopub.status.busy": "2022-10-24T00:31:57.003936Z",
     "iopub.status.idle": "2022-10-24T00:31:57.030851Z",
     "shell.execute_reply": "2022-10-24T00:31:57.026547Z"
    },
    "papermill": {
     "duration": 0.047865,
     "end_time": "2022-10-24T00:31:57.034607",
     "exception": false,
     "start_time": "2022-10-24T00:31:56.986742",
     "status": "completed"
    },
    "tags": []
   },
   "outputs": [
    {
     "name": "stdout",
     "output_type": "stream",
     "text": [
      "Medical Insurance cost for New Customer is :  44101.250279\n"
     ]
    }
   ],
   "source": [
    "new_pred = rf.predict(df)\n",
    "print(\"Medical Insurance cost for New Customer is : \",new_pred[0])"
   ]
  },
  {
   "cell_type": "code",
   "execution_count": null,
   "id": "a62bacc5",
   "metadata": {},
   "outputs": [],
   "source": [
    "import joblib"
   ]
  },
  {
   "cell_type": "code",
   "execution_count": null,
   "id": "99b71732",
   "metadata": {},
   "outputs": [],
   "source": [
    "joblib.dump(rf,'model_joblib_rf')"
   ]
  },
  {
   "cell_type": "code",
   "execution_count": null,
   "id": "49955623",
   "metadata": {},
   "outputs": [],
   "source": [
    "model = joblib.load('model_joblib_rf')"
   ]
  },
  {
   "cell_type": "code",
   "execution_count": null,
   "id": "080c5aee",
   "metadata": {},
   "outputs": [],
   "source": [
    "model.predict(df)"
   ]
  },
  {
   "cell_type": "markdown",
   "id": "73919606",
   "metadata": {},
   "source": [
    "# **GUI**\n",
    "\n",
    "Implementing a GUI so that users can use"
   ]
  },
  {
   "cell_type": "code",
   "execution_count": null,
   "id": "5b23ec48",
   "metadata": {},
   "outputs": [],
   "source": [
    "from tkinter import *\n",
    "import joblib"
   ]
  },
  {
   "cell_type": "code",
   "execution_count": null,
   "id": "f15e94c5",
   "metadata": {},
   "outputs": [],
   "source": [
    "def show_entry():\n",
    "    p1 = float(e1,get())\n",
    "    p2 = float(e2,get())\n",
    "    p3 = float(e3,get())\n",
    "    p4 = float(e4,get())\n",
    "    p5 = float(e5,get())\n",
    "    p6 = float(e6,get())\n",
    "\n",
    "    model = joblib.load('model_joblib_rf')\n",
    "    result = model.predict([[p1,p2,p3,p4,p5,p6]])\n",
    "\n",
    "    Label(master, text = \"Insurance Cost\").grid(row=7)\n",
    "    Label(master, test=result).grid"
   ]
  },
  {
   "cell_type": "code",
   "execution_count": null,
   "id": "968f0182",
   "metadata": {},
   "outputs": [
    {
     "ename": "ModuleNotFoundError",
     "evalue": "No module named 'joblib'",
     "output_type": "error",
     "traceback": [
      "\u001b[1;31m---------------------------------------------------------------------------\u001b[0m",
      "\u001b[1;31mModuleNotFoundError\u001b[0m                       Traceback (most recent call last)",
      "Cell \u001b[1;32mIn [2], line 1\u001b[0m\n\u001b[1;32m----> 1\u001b[0m \u001b[39mimport\u001b[39;00m \u001b[39mjoblib\u001b[39;00m\n\u001b[0;32m      2\u001b[0m master \u001b[39m=\u001b[39m Tk()\n\u001b[0;32m      3\u001b[0m master\u001b[39m.\u001b[39mtitle(\u001b[39m\"\u001b[39m\u001b[39mInsurance Cost Prediction\u001b[39m\u001b[39m\"\u001b[39m)\n",
      "\u001b[1;31mModuleNotFoundError\u001b[0m: No module named 'joblib'"
     ]
    }
   ],
   "source": [
    "master = Tk()\n",
    "master.title(\"Insurance Cost Prediction\")\n",
    "label = Label(master,text = \"Insurance Cost Prediction\",\n",
    "              bg = \"black\",\n",
    "              fg = \"white\").grid(row = 0 , columnspan = 2)\n",
    "\n",
    "Label(master,text = \"Enter Your Age\").grid(row=1)\n",
    "Label(master,text = \"Enter Your Sex (Male/Female) [1/0]\").grid(row=2)\n",
    "Label(master,text = \"Enter Your BMI Score\").grid(row=3)\n",
    "Label(master,text = \"Enter Your Number of Children\").grid(row=4)\n",
    "Label(master,text = \"Do you smoke? Yes/No [1/0]\").grid(row=5)\n",
    "Label(master,text = \"Do you live in Northeast? [1/0]\").grid(row=6)\n",
    "Label(master,text = \"Do you live in Northest? [1/0]\").grid(row=7)\n",
    "Label(master,text = \"Do you live in Southeast? [1/0]\").grid(row=8)\n",
    "Label(master,text = \"Do you live in Southwest? [1/0]\").grid(row=9)\n",
    "\n",
    "e1 = Entry(master)\n",
    "e2 = Entry(master)\n",
    "e3 = Entry(master)\n",
    "e4 = Entry(master)\n",
    "e5 = Entry(master)\n",
    "e6 = Entry(master)\n",
    "e7 = Entry(master)\n",
    "e8 = Entry(master)\n",
    "e9 = Entry(master)\n",
    "\n",
    "\n",
    "e1.grid(row=1,column=1)\n",
    "e2.grid(row=2,column=1)\n",
    "e3.grid(row=3,column=1)\n",
    "e4.grid(row=4,column=1)\n",
    "e5.grid(row=5,column=1)\n",
    "e6.grid(row=6,column=1)\n",
    "e7.grid(row=7,column=1)\n",
    "e8.grid(row=8,column=1)\n",
    "e9.grid(row=9,column=1)\n",
    "\n",
    "Button(master,text=\"Predict\", command=show_entry.grid())\n",
    "\n",
    "\n",
    "\n",
    "mainloop()"
   ]
  }
 ],
 "metadata": {
  "kernelspec": {
   "display_name": "Python 3.10.8 64-bit (microsoft store)",
   "language": "python",
   "name": "python3"
  },
  "language_info": {
   "codemirror_mode": {
    "name": "ipython",
    "version": 3
   },
   "file_extension": ".py",
   "mimetype": "text/x-python",
   "name": "python",
   "nbconvert_exporter": "python",
   "pygments_lexer": "ipython3",
   "version": "3.10.8"
  },
  "papermill": {
   "default_parameters": {},
   "duration": 113.013845,
   "end_time": "2022-10-24T00:31:59.706710",
   "environment_variables": {},
   "exception": null,
   "input_path": "__notebook__.ipynb",
   "output_path": "__notebook__.ipynb",
   "parameters": {},
   "start_time": "2022-10-24T00:30:06.692865",
   "version": "2.3.4"
  },
  "vscode": {
   "interpreter": {
    "hash": "5c1f741a4f83aa020b4b2a4d7353a073a4e5e4a855a3258a20da40294ddbf005"
   }
  }
 },
 "nbformat": 4,
 "nbformat_minor": 5
}
